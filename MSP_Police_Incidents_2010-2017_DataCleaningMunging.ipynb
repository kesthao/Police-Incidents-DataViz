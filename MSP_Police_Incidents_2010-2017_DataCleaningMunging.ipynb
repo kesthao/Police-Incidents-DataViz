{
 "cells": [
  {
   "cell_type": "markdown",
   "metadata": {},
   "source": [
    "# Minneapolis Police Incidents 2010 - 2017\n",
    "\n",
    "url: http://opendata.minneapolismn.gov/"
   ]
  },
  {
   "cell_type": "code",
   "execution_count": 1,
   "metadata": {},
   "outputs": [],
   "source": [
    "# Import required libraries\n",
    "import numpy as np\n",
    "import pandas as pd\n",
    "\n",
    "import matplotlib.pyplot as plt\n",
    "import seaborn as sns\n",
    "\n",
    "import pickle\n",
    "\n",
    "%matplotlib inline"
   ]
  },
  {
   "cell_type": "code",
   "execution_count": 2,
   "metadata": {},
   "outputs": [],
   "source": [
    "pd.options.mode.chained_assignment = None  # default='warn'"
   ]
  },
  {
   "cell_type": "markdown",
   "metadata": {},
   "source": [
    "### DATA IMPORTING & MERGING"
   ]
  },
  {
   "cell_type": "code",
   "execution_count": 3,
   "metadata": {},
   "outputs": [],
   "source": [
    "# Read in 8 separate CSV files & create DataFrames\n",
    "df_dict = {}\n",
    "\n",
    "file_name_str = 'Police_Incidents_'\n",
    "years = [2010, 2011, 2012, 2013, 2014, 2015, 2016, 2017]\n",
    "\n",
    "for year in years:\n",
    "    df_dict[year] = pd.read_csv(file_name_str + str(year) + '.csv')"
   ]
  },
  {
   "cell_type": "code",
   "execution_count": 4,
   "metadata": {},
   "outputs": [],
   "source": [
    "# Concatenate all DFs into 1 DF\n",
    "df_list = []\n",
    "\n",
    "for year in sorted(df_dict):\n",
    "    df_list.append(df_dict[year])\n",
    "df = pd.concat(df_list, ignore_index=True)"
   ]
  },
  {
   "cell_type": "code",
   "execution_count": 5,
   "metadata": {},
   "outputs": [
    {
     "data": {
      "text/html": [
       "<div>\n",
       "<table border=\"1\" class=\"dataframe\">\n",
       "  <thead>\n",
       "    <tr style=\"text-align: right;\">\n",
       "      <th></th>\n",
       "      <th>BeginDate</th>\n",
       "      <th>CCN</th>\n",
       "      <th>ControlNbr</th>\n",
       "      <th>Description</th>\n",
       "      <th>ESRI_OID</th>\n",
       "      <th>EnteredDate</th>\n",
       "      <th>GBSID</th>\n",
       "      <th>LastChanged</th>\n",
       "      <th>LastUpdateDate</th>\n",
       "      <th>Lat</th>\n",
       "      <th>...</th>\n",
       "      <th>Neighborhood</th>\n",
       "      <th>OBJECTID</th>\n",
       "      <th>Offense</th>\n",
       "      <th>Precinct</th>\n",
       "      <th>PublicAddress</th>\n",
       "      <th>ReportedDate</th>\n",
       "      <th>Time</th>\n",
       "      <th>UCRCode</th>\n",
       "      <th>X</th>\n",
       "      <th>Y</th>\n",
       "    </tr>\n",
       "  </thead>\n",
       "  <tbody>\n",
       "    <tr>\n",
       "      <th>0</th>\n",
       "      <td>2010-09-20T16:35:00.000Z</td>\n",
       "      <td>MP 2010 291719</td>\n",
       "      <td>2889603</td>\n",
       "      <td>Other Theft</td>\n",
       "      <td>15001.0</td>\n",
       "      <td>2010-09-22T16:39:20.000Z</td>\n",
       "      <td>16434.0</td>\n",
       "      <td>2010-09-23T08:37:46.000Z</td>\n",
       "      <td>2017-03-03T13:40:06.000Z</td>\n",
       "      <td>44.959121</td>\n",
       "      <td>...</td>\n",
       "      <td>VENTURA VILLAGE</td>\n",
       "      <td>NaN</td>\n",
       "      <td>THEFT</td>\n",
       "      <td>3.0</td>\n",
       "      <td>0009XX 24 ST E</td>\n",
       "      <td>2010-09-22T16:40:00.000Z</td>\n",
       "      <td>16:35:00</td>\n",
       "      <td>7</td>\n",
       "      <td>-1.038172e+07</td>\n",
       "      <td>5.615088e+06</td>\n",
       "    </tr>\n",
       "    <tr>\n",
       "      <th>1</th>\n",
       "      <td>2010-09-14T03:43:00.000Z</td>\n",
       "      <td>MP 2010 291647</td>\n",
       "      <td>2889606</td>\n",
       "      <td>Burglary Of Business</td>\n",
       "      <td>15002.0</td>\n",
       "      <td>2010-09-22T17:05:24.000Z</td>\n",
       "      <td>19124.0</td>\n",
       "      <td>2010-09-22T20:02:01.000Z</td>\n",
       "      <td>2017-03-03T13:40:06.000Z</td>\n",
       "      <td>44.962751</td>\n",
       "      <td>...</td>\n",
       "      <td>SEWARD</td>\n",
       "      <td>NaN</td>\n",
       "      <td>BURGB</td>\n",
       "      <td>3.0</td>\n",
       "      <td>0022XX Franklin AV E</td>\n",
       "      <td>2010-09-22T17:05:00.000Z</td>\n",
       "      <td>03:43:00</td>\n",
       "      <td>6</td>\n",
       "      <td>-1.037939e+07</td>\n",
       "      <td>5.615659e+06</td>\n",
       "    </tr>\n",
       "    <tr>\n",
       "      <th>2</th>\n",
       "      <td>2010-09-22T06:00:00.000Z</td>\n",
       "      <td>MP 2010 291696</td>\n",
       "      <td>2889608</td>\n",
       "      <td>Burglary Of Dwelling</td>\n",
       "      <td>15003.0</td>\n",
       "      <td>2010-09-22T17:08:24.000Z</td>\n",
       "      <td>16592.0</td>\n",
       "      <td>2010-09-23T10:12:50.000Z</td>\n",
       "      <td>2017-03-03T13:40:06.000Z</td>\n",
       "      <td>44.982728</td>\n",
       "      <td>...</td>\n",
       "      <td>MARCY HOLMES</td>\n",
       "      <td>NaN</td>\n",
       "      <td>BURGD</td>\n",
       "      <td>2.0</td>\n",
       "      <td>0013XX 6 ST SE</td>\n",
       "      <td>2010-09-22T17:08:00.000Z</td>\n",
       "      <td>06:00:00</td>\n",
       "      <td>6</td>\n",
       "      <td>-1.037886e+07</td>\n",
       "      <td>5.618803e+06</td>\n",
       "    </tr>\n",
       "    <tr>\n",
       "      <th>3</th>\n",
       "      <td>2010-09-21T23:30:00.000Z</td>\n",
       "      <td>MP 2010 291761</td>\n",
       "      <td>2889616</td>\n",
       "      <td>Motor Vehicle Theft</td>\n",
       "      <td>15004.0</td>\n",
       "      <td>2010-09-22T17:40:20.000Z</td>\n",
       "      <td>17645.0</td>\n",
       "      <td>2010-09-23T06:40:19.000Z</td>\n",
       "      <td>2017-03-03T13:40:06.000Z</td>\n",
       "      <td>44.986351</td>\n",
       "      <td>...</td>\n",
       "      <td>MARCY HOLMES</td>\n",
       "      <td>NaN</td>\n",
       "      <td>AUTOTH</td>\n",
       "      <td>2.0</td>\n",
       "      <td>0010XX 8 ST SE</td>\n",
       "      <td>2010-09-22T17:41:00.000Z</td>\n",
       "      <td>23:30:00</td>\n",
       "      <td>8</td>\n",
       "      <td>-1.037915e+07</td>\n",
       "      <td>5.619373e+06</td>\n",
       "    </tr>\n",
       "    <tr>\n",
       "      <th>4</th>\n",
       "      <td>2010-09-22T15:00:00.000Z</td>\n",
       "      <td>MP 2010 291752</td>\n",
       "      <td>2889617</td>\n",
       "      <td>Motor Vehicle Theft</td>\n",
       "      <td>15005.0</td>\n",
       "      <td>2010-09-22T17:51:00.000Z</td>\n",
       "      <td>16883.0</td>\n",
       "      <td>2010-09-23T08:38:01.000Z</td>\n",
       "      <td>2017-03-03T13:40:06.000Z</td>\n",
       "      <td>44.951006</td>\n",
       "      <td>...</td>\n",
       "      <td>MIDTOWN PHILLIPS</td>\n",
       "      <td>NaN</td>\n",
       "      <td>AUTOTH</td>\n",
       "      <td>3.0</td>\n",
       "      <td>0028XX 14 AV S</td>\n",
       "      <td>2010-09-22T17:50:00.000Z</td>\n",
       "      <td>15:00:00</td>\n",
       "      <td>8</td>\n",
       "      <td>-1.038110e+07</td>\n",
       "      <td>5.613812e+06</td>\n",
       "    </tr>\n",
       "  </tbody>\n",
       "</table>\n",
       "<p>5 rows × 21 columns</p>\n",
       "</div>"
      ],
      "text/plain": [
       "                  BeginDate             CCN  ControlNbr           Description  \\\n",
       "0  2010-09-20T16:35:00.000Z  MP 2010 291719     2889603           Other Theft   \n",
       "1  2010-09-14T03:43:00.000Z  MP 2010 291647     2889606  Burglary Of Business   \n",
       "2  2010-09-22T06:00:00.000Z  MP 2010 291696     2889608  Burglary Of Dwelling   \n",
       "3  2010-09-21T23:30:00.000Z  MP 2010 291761     2889616   Motor Vehicle Theft   \n",
       "4  2010-09-22T15:00:00.000Z  MP 2010 291752     2889617   Motor Vehicle Theft   \n",
       "\n",
       "   ESRI_OID               EnteredDate    GBSID               LastChanged  \\\n",
       "0   15001.0  2010-09-22T16:39:20.000Z  16434.0  2010-09-23T08:37:46.000Z   \n",
       "1   15002.0  2010-09-22T17:05:24.000Z  19124.0  2010-09-22T20:02:01.000Z   \n",
       "2   15003.0  2010-09-22T17:08:24.000Z  16592.0  2010-09-23T10:12:50.000Z   \n",
       "3   15004.0  2010-09-22T17:40:20.000Z  17645.0  2010-09-23T06:40:19.000Z   \n",
       "4   15005.0  2010-09-22T17:51:00.000Z  16883.0  2010-09-23T08:38:01.000Z   \n",
       "\n",
       "             LastUpdateDate        Lat      ...           Neighborhood  \\\n",
       "0  2017-03-03T13:40:06.000Z  44.959121      ...        VENTURA VILLAGE   \n",
       "1  2017-03-03T13:40:06.000Z  44.962751      ...                 SEWARD   \n",
       "2  2017-03-03T13:40:06.000Z  44.982728      ...           MARCY HOLMES   \n",
       "3  2017-03-03T13:40:06.000Z  44.986351      ...           MARCY HOLMES   \n",
       "4  2017-03-03T13:40:06.000Z  44.951006      ...       MIDTOWN PHILLIPS   \n",
       "\n",
       "  OBJECTID  Offense Precinct         PublicAddress              ReportedDate  \\\n",
       "0      NaN    THEFT      3.0        0009XX 24 ST E  2010-09-22T16:40:00.000Z   \n",
       "1      NaN    BURGB      3.0  0022XX Franklin AV E  2010-09-22T17:05:00.000Z   \n",
       "2      NaN    BURGD      2.0        0013XX 6 ST SE  2010-09-22T17:08:00.000Z   \n",
       "3      NaN   AUTOTH      2.0        0010XX 8 ST SE  2010-09-22T17:41:00.000Z   \n",
       "4      NaN   AUTOTH      3.0        0028XX 14 AV S  2010-09-22T17:50:00.000Z   \n",
       "\n",
       "       Time UCRCode             X             Y  \n",
       "0  16:35:00       7 -1.038172e+07  5.615088e+06  \n",
       "1  03:43:00       6 -1.037939e+07  5.615659e+06  \n",
       "2  06:00:00       6 -1.037886e+07  5.618803e+06  \n",
       "3  23:30:00       8 -1.037915e+07  5.619373e+06  \n",
       "4  15:00:00       8 -1.038110e+07  5.613812e+06  \n",
       "\n",
       "[5 rows x 21 columns]"
      ]
     },
     "execution_count": 5,
     "metadata": {},
     "output_type": "execute_result"
    }
   ],
   "source": [
    "# Look at first few rows of DataFrame\n",
    "df.head()"
   ]
  },
  {
   "cell_type": "code",
   "execution_count": 6,
   "metadata": {},
   "outputs": [],
   "source": [
    "# Create a DataFrame with just the interested columns/variables\n",
    "df2 = df[['ReportedDate', 'Neighborhood', 'Offense', 'Description', 'Lat', 'Long']]"
   ]
  },
  {
   "cell_type": "code",
   "execution_count": 7,
   "metadata": {},
   "outputs": [
    {
     "name": "stdout",
     "output_type": "stream",
     "text": [
      "<class 'pandas.core.frame.DataFrame'>\n",
      "RangeIndex: 172009 entries, 0 to 172008\n",
      "Data columns (total 6 columns):\n",
      "ReportedDate    172009 non-null object\n",
      "Neighborhood    171603 non-null object\n",
      "Offense         172009 non-null object\n",
      "Description     172009 non-null object\n",
      "Lat             172009 non-null float64\n",
      "Long            172009 non-null float64\n",
      "dtypes: float64(2), object(4)\n",
      "memory usage: 7.9+ MB\n"
     ]
    }
   ],
   "source": [
    "df2.info()"
   ]
  },
  {
   "cell_type": "markdown",
   "metadata": {},
   "source": [
    "### DATA CLEANING & MUNGING "
   ]
  },
  {
   "cell_type": "code",
   "execution_count": 8,
   "metadata": {},
   "outputs": [
    {
     "data": {
      "text/plain": [
       "ReportedDate      0\n",
       "Neighborhood    406\n",
       "Offense           0\n",
       "Description       0\n",
       "Lat               0\n",
       "Long              0\n",
       "dtype: int64"
      ]
     },
     "execution_count": 8,
     "metadata": {},
     "output_type": "execute_result"
    }
   ],
   "source": [
    "# Check columns for missing data\n",
    "df2.isnull().sum()"
   ]
  },
  {
   "cell_type": "code",
   "execution_count": null,
   "metadata": {},
   "outputs": [],
   "source": [
    "# Drop all rows with any missing data\n",
    "# df2 = df2.dropna(how='any')\n",
    "\n",
    "# Declined to drop missing data as only Neighborhood column is missing \n",
    "# and variable is not of interest"
   ]
  },
  {
   "cell_type": "code",
   "execution_count": 9,
   "metadata": {},
   "outputs": [],
   "source": [
    "# Convert ReportedDate column to pandas DateTime object\n",
    "df2['ReportedDate'] = df2['ReportedDate'].apply(lambda x: pd.to_datetime(x))\n",
    "\n",
    "# # Create year, month, day_of_week, and time columns\n",
    "df2['Year'] = df2.ReportedDate.dt.year\n",
    "df2['Month_Num'] = df2.ReportedDate.dt.month\n",
    "df2['Day_of_Week_Num'] = df2.ReportedDate.dt.dayofweek + 1\n",
    "df2['Time'] = df2.ReportedDate.dt.time\n",
    "\n",
    "# Create mapping for day_of_week\n",
    "day_of_week = {1:'Mon', 2:'Tues', 3:'Wed', 4:'Thurs', 5:'Fri', 6:'Sat', 7:'Sun'}\n",
    "month_map = {1: 'Jan', 2:'Feb', 3:'Mar', 4:'Apr', 5:'May', 6:'Jun', 7:'Jul',\n",
    "            8:'Aug', 9:'Sep', 10:'Oct', 11:'Nov', 12:'Dec'}\n",
    "\n",
    "# Apply mapping to Day_of_Week column\n",
    "df2['Day_of_Week']= df2.Day_of_Week_Num.map(day_of_week)\n",
    "df2['Month'] = df2.Month_Num.map(month_map)\n",
    "\n",
    "# Convert military time to standard time\n",
    "from datetime import datetime\n",
    "df2['Time_Standard'] = df2['Time'].apply(lambda d: d.strftime('%I:%M %p'))"
   ]
  },
  {
   "cell_type": "code",
   "execution_count": 10,
   "metadata": {},
   "outputs": [],
   "source": [
    "# Grab only incidents reported from 2010 - 2017 (2017 dataset has 2018 incidents mixed in)\n",
    "df2 = df2[df2['Year'] != 2018]"
   ]
  },
  {
   "cell_type": "code",
   "execution_count": 11,
   "metadata": {},
   "outputs": [],
   "source": [
    "# Save DataFrame 2 to a pickle file\n",
    "df2.to_pickle('df2.pickle')"
   ]
  },
  {
   "cell_type": "code",
   "execution_count": 12,
   "metadata": {},
   "outputs": [
    {
     "data": {
      "text/html": [
       "<div>\n",
       "<table border=\"1\" class=\"dataframe\">\n",
       "  <thead>\n",
       "    <tr style=\"text-align: right;\">\n",
       "      <th></th>\n",
       "      <th>ReportedDate</th>\n",
       "      <th>Neighborhood</th>\n",
       "      <th>Offense</th>\n",
       "      <th>Description</th>\n",
       "      <th>Lat</th>\n",
       "      <th>Long</th>\n",
       "      <th>Year</th>\n",
       "      <th>Month_Num</th>\n",
       "      <th>Day_of_Week_Num</th>\n",
       "      <th>Time</th>\n",
       "      <th>Day_of_Week</th>\n",
       "      <th>Month</th>\n",
       "      <th>Time_Standard</th>\n",
       "    </tr>\n",
       "  </thead>\n",
       "  <tbody>\n",
       "    <tr>\n",
       "      <th>0</th>\n",
       "      <td>2010-09-22 16:40:00</td>\n",
       "      <td>VENTURA VILLAGE</td>\n",
       "      <td>THEFT</td>\n",
       "      <td>Other Theft</td>\n",
       "      <td>44.959121</td>\n",
       "      <td>-93.260557</td>\n",
       "      <td>2010</td>\n",
       "      <td>9</td>\n",
       "      <td>3</td>\n",
       "      <td>16:40:00</td>\n",
       "      <td>Wed</td>\n",
       "      <td>Sep</td>\n",
       "      <td>04:40 PM</td>\n",
       "    </tr>\n",
       "    <tr>\n",
       "      <th>1</th>\n",
       "      <td>2010-09-22 17:05:00</td>\n",
       "      <td>SEWARD</td>\n",
       "      <td>BURGB</td>\n",
       "      <td>Burglary Of Business</td>\n",
       "      <td>44.962751</td>\n",
       "      <td>-93.239666</td>\n",
       "      <td>2010</td>\n",
       "      <td>9</td>\n",
       "      <td>3</td>\n",
       "      <td>17:05:00</td>\n",
       "      <td>Wed</td>\n",
       "      <td>Sep</td>\n",
       "      <td>05:05 PM</td>\n",
       "    </tr>\n",
       "    <tr>\n",
       "      <th>2</th>\n",
       "      <td>2010-09-22 17:08:00</td>\n",
       "      <td>MARCY HOLMES</td>\n",
       "      <td>BURGD</td>\n",
       "      <td>Burglary Of Dwelling</td>\n",
       "      <td>44.982728</td>\n",
       "      <td>-93.234905</td>\n",
       "      <td>2010</td>\n",
       "      <td>9</td>\n",
       "      <td>3</td>\n",
       "      <td>17:08:00</td>\n",
       "      <td>Wed</td>\n",
       "      <td>Sep</td>\n",
       "      <td>05:08 PM</td>\n",
       "    </tr>\n",
       "    <tr>\n",
       "      <th>3</th>\n",
       "      <td>2010-09-22 17:41:00</td>\n",
       "      <td>MARCY HOLMES</td>\n",
       "      <td>AUTOTH</td>\n",
       "      <td>Motor Vehicle Theft</td>\n",
       "      <td>44.986351</td>\n",
       "      <td>-93.237514</td>\n",
       "      <td>2010</td>\n",
       "      <td>9</td>\n",
       "      <td>3</td>\n",
       "      <td>17:41:00</td>\n",
       "      <td>Wed</td>\n",
       "      <td>Sep</td>\n",
       "      <td>05:41 PM</td>\n",
       "    </tr>\n",
       "    <tr>\n",
       "      <th>4</th>\n",
       "      <td>2010-09-22 17:50:00</td>\n",
       "      <td>MIDTOWN PHILLIPS</td>\n",
       "      <td>AUTOTH</td>\n",
       "      <td>Motor Vehicle Theft</td>\n",
       "      <td>44.951006</td>\n",
       "      <td>-93.255022</td>\n",
       "      <td>2010</td>\n",
       "      <td>9</td>\n",
       "      <td>3</td>\n",
       "      <td>17:50:00</td>\n",
       "      <td>Wed</td>\n",
       "      <td>Sep</td>\n",
       "      <td>05:50 PM</td>\n",
       "    </tr>\n",
       "  </tbody>\n",
       "</table>\n",
       "</div>"
      ],
      "text/plain": [
       "         ReportedDate      Neighborhood Offense           Description  \\\n",
       "0 2010-09-22 16:40:00   VENTURA VILLAGE   THEFT           Other Theft   \n",
       "1 2010-09-22 17:05:00            SEWARD   BURGB  Burglary Of Business   \n",
       "2 2010-09-22 17:08:00      MARCY HOLMES   BURGD  Burglary Of Dwelling   \n",
       "3 2010-09-22 17:41:00      MARCY HOLMES  AUTOTH   Motor Vehicle Theft   \n",
       "4 2010-09-22 17:50:00  MIDTOWN PHILLIPS  AUTOTH   Motor Vehicle Theft   \n",
       "\n",
       "         Lat       Long  Year  Month_Num  Day_of_Week_Num      Time  \\\n",
       "0  44.959121 -93.260557  2010          9                3  16:40:00   \n",
       "1  44.962751 -93.239666  2010          9                3  17:05:00   \n",
       "2  44.982728 -93.234905  2010          9                3  17:08:00   \n",
       "3  44.986351 -93.237514  2010          9                3  17:41:00   \n",
       "4  44.951006 -93.255022  2010          9                3  17:50:00   \n",
       "\n",
       "  Day_of_Week Month Time_Standard  \n",
       "0         Wed   Sep      04:40 PM  \n",
       "1         Wed   Sep      05:05 PM  \n",
       "2         Wed   Sep      05:08 PM  \n",
       "3         Wed   Sep      05:41 PM  \n",
       "4         Wed   Sep      05:50 PM  "
      ]
     },
     "execution_count": 12,
     "metadata": {},
     "output_type": "execute_result"
    }
   ],
   "source": [
    "# Look at first few rows of df to ensure mapping and cleanings were done correctly\n",
    "df2.head()"
   ]
  },
  {
   "cell_type": "markdown",
   "metadata": {},
   "source": [
    "### DATA EXPLORATION "
   ]
  },
  {
   "cell_type": "code",
   "execution_count": 13,
   "metadata": {},
   "outputs": [
    {
     "data": {
      "text/plain": [
       "Mon      27693\n",
       "Tues     26519\n",
       "Wed      25302\n",
       "Fri      24285\n",
       "Thurs    24198\n",
       "Sat      20978\n",
       "Sun      20579\n",
       "Name: Day_of_Week, dtype: int64"
      ]
     },
     "execution_count": 13,
     "metadata": {},
     "output_type": "execute_result"
    }
   ],
   "source": [
    "# Which day of the week had the most incidents reported on?\n",
    "df2['Day_of_Week'].value_counts().head(10)"
   ]
  },
  {
   "cell_type": "code",
   "execution_count": 14,
   "metadata": {},
   "outputs": [
    {
     "data": {
      "text/plain": [
       "Aug    17258\n",
       "Jul    17252\n",
       "Sep    15924\n",
       "Oct    15812\n",
       "Jun    15605\n",
       "May    14642\n",
       "Nov    13904\n",
       "Dec    12902\n",
       "Apr    12780\n",
       "Mar    11983\n",
       "Jan    11735\n",
       "Feb     9757\n",
       "Name: Month, dtype: int64"
      ]
     },
     "execution_count": 14,
     "metadata": {},
     "output_type": "execute_result"
    }
   ],
   "source": [
    "# Which month has the most incidents reported on?\n",
    "df2['Month'].value_counts()"
   ]
  },
  {
   "cell_type": "code",
   "execution_count": 15,
   "metadata": {},
   "outputs": [
    {
     "data": {
      "text/plain": [
       "02:00 PM    1180\n",
       "03:00 PM    1165\n",
       "01:00 PM    1070\n",
       "12:00 PM    1030\n",
       "11:00 AM     997\n",
       "10:00 AM     974\n",
       "09:00 AM     937\n",
       "06:00 PM     848\n",
       "04:00 PM     832\n",
       "03:30 PM     791\n",
       "01:30 PM     789\n",
       "02:30 PM     781\n",
       "05:00 PM     765\n",
       "10:30 AM     730\n",
       "07:00 PM     726\n",
       "10:00 PM     692\n",
       "08:00 PM     691\n",
       "11:30 AM     686\n",
       "12:30 PM     685\n",
       "09:00 PM     667\n",
       "09:30 AM     662\n",
       "08:00 AM     645\n",
       "11:00 PM     597\n",
       "08:30 AM     550\n",
       "06:30 PM     541\n",
       "Name: Time_Standard, dtype: int64"
      ]
     },
     "execution_count": 15,
     "metadata": {},
     "output_type": "execute_result"
    }
   ],
   "source": [
    "# When are incidents reported the most?\n",
    "df2['Time_Standard'].value_counts().head(25)"
   ]
  },
  {
   "cell_type": "code",
   "execution_count": 16,
   "metadata": {
    "scrolled": true
   },
   "outputs": [
    {
     "data": {
      "text/plain": [
       "DOWNTOWN WEST      19146\n",
       "WHITTIER            6971\n",
       "JORDAN              5295\n",
       "LONGFELLOW          4989\n",
       "MARCY HOLMES        4881\n",
       "NEAR - NORTH        4759\n",
       "WILLARD - HAY       4024\n",
       "LOWRY HILL EAST     3961\n",
       "HAWTHORNE           3829\n",
       "LORING PARK         3713\n",
       "Name: Neighborhood, dtype: int64"
      ]
     },
     "execution_count": 16,
     "metadata": {},
     "output_type": "execute_result"
    }
   ],
   "source": [
    "# Top 10 Neighborhood with Police Incidents\n",
    "df2.Neighborhood.value_counts().head(10)"
   ]
  },
  {
   "cell_type": "code",
   "execution_count": 17,
   "metadata": {},
   "outputs": [
    {
     "data": {
      "text/plain": [
       "2017    22112\n",
       "2012    21934\n",
       "2013    21857\n",
       "2011    21627\n",
       "2014    21532\n",
       "2010    20339\n",
       "2016    20155\n",
       "2015    19998\n",
       "Name: Year, dtype: int64"
      ]
     },
     "execution_count": 17,
     "metadata": {},
     "output_type": "execute_result"
    }
   ],
   "source": [
    "# Which year had the most incidents reported?\n",
    "df2.Year.value_counts().head(10)"
   ]
  },
  {
   "cell_type": "markdown",
   "metadata": {},
   "source": [
    "### Top 3 Incidents"
   ]
  },
  {
   "cell_type": "code",
   "execution_count": null,
   "metadata": {},
   "outputs": [],
   "source": [
    "# Explore Top 3 Incident Types by Day of Week\n",
    "top_3_incidents = df2['Description'].value_counts().head(3)\n",
    "\n",
    "# Save Series to a pickle file\n",
    "top_3_incidents.to_pickle('top_3_incidents.pickle')\n",
    "\n",
    "# Create a Bool variable for whether incident is one of the top 3 types\n",
    "desc_bool1 = df2['Description'].isin(top_3_incidents.index.tolist())\n",
    "\n",
    "# # Create a new DF with just top 3 crimes\n",
    "df_top3 = df2[desc_bool1]\n",
    "\n",
    "# grouped by COUNT\n",
    "df_top3_grouped = pd.DataFrame(df_top3.groupby(['Day_of_Week_Num', 'Description'])['Description'].apply(lambda x: x.count()))\n",
    "\n",
    "# Rename and reset Data Viz DF\n",
    "df_top3_grouped.rename(columns={'Description':'Count'}, inplace=True)\n",
    "df_top3_grouped.reset_index(inplace=True)\n",
    "\n",
    "# Save as a Pickle file\n",
    "df_top3_grouped.to_pickle('df_top3_grouped.pickle')"
   ]
  },
  {
   "cell_type": "markdown",
   "metadata": {},
   "source": [
    "### Top 10 Incidents "
   ]
  },
  {
   "cell_type": "code",
   "execution_count": null,
   "metadata": {},
   "outputs": [],
   "source": [
    "# Explore Top 10 Incident Types by Day of Week\n",
    "top_10_incidents = df2['Description'].value_counts().head(10)\n",
    "\n",
    "# Save Series to a pickle file\n",
    "top_10_incidents.to_pickle('top_10_incidents.pickle')\n",
    "\n",
    "# Create a Bool variable for whether incident is one of the top ten types\n",
    "desc_bool2 = df2['Description'].isin(top_10_incidents.index.tolist())\n",
    "\n",
    "# # Create a new DF with just top 3 crimes\n",
    "df_top10 = df2[desc_bool2]\n",
    "\n",
    "# grouped by COUNT\n",
    "df_top10_grouped = pd.DataFrame(df_top10.groupby(['Day_of_Week_Num', 'Description'])['Description'].apply(lambda x: x.count()))\n",
    "\n",
    "# Rename and reset Data Viz DF\n",
    "df_top10_grouped.rename(columns={'Description':'Count'}, inplace=True)\n",
    "df_top10_grouped.reset_index(inplace=True)\n",
    "\n",
    "# Save as a Pickle file\n",
    "df_top10_grouped.to_pickle('df_top10_grouped.pickle')"
   ]
  }
 ],
 "metadata": {
  "kernelspec": {
   "display_name": "Python [default]",
   "language": "python",
   "name": "python3"
  },
  "language_info": {
   "codemirror_mode": {
    "name": "ipython",
    "version": 3
   },
   "file_extension": ".py",
   "mimetype": "text/x-python",
   "name": "python",
   "nbconvert_exporter": "python",
   "pygments_lexer": "ipython3",
   "version": "3.5.4"
  }
 },
 "nbformat": 4,
 "nbformat_minor": 2
}
